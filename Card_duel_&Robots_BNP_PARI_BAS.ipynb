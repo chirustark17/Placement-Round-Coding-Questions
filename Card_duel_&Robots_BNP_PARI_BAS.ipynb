{
  "nbformat": 4,
  "nbformat_minor": 0,
  "metadata": {
    "colab": {
      "provenance": [],
      "authorship_tag": "ABX9TyPlRqyNyvbBaj8hqv449b1H",
      "include_colab_link": true
    },
    "kernelspec": {
      "name": "python3",
      "display_name": "Python 3"
    },
    "language_info": {
      "name": "python"
    }
  },
  "cells": [
    {
      "cell_type": "markdown",
      "metadata": {
        "id": "view-in-github",
        "colab_type": "text"
      },
      "source": [
        "<a href=\"https://colab.research.google.com/github/chirustark17/Placement-Round-Coding-Questions/blob/main/Card_duel_%26Robots_BNP_PARI_BAS.ipynb\" target=\"_parent\"><img src=\"https://colab.research.google.com/assets/colab-badge.svg\" alt=\"Open In Colab\"/></a>"
      ]
    },
    {
      "cell_type": "markdown",
      "source": [
        "**Card Duel Game**\n",
        "\n",
        "Two players face off in a \"Card Duel,\" where the goal is to end up with the smallest card. Each player starts with one card and has a chance to swap it with a card from a shuffled deck. The player with the lowest card after the swap wins the game.\n",
        "\n",
        "Rules:\n",
        "Initial Setup:\n",
        "\n",
        "Player 1 and Player 2 each receive an initial card from a deck of 13 cards i.e. {2, 3, 4, 5, 6, 7, 8, 9, 10, J, Q, K, A}.\n",
        "\n",
        "The remaining 11 cards are shuffled and placed as a deck in the middle.\n",
        "\n",
        "Card Rankings and Objective:\n",
        "\n",
        "Cards are ranked as A, K, Q, J, 10, 9, 8, 7, 6, 5, 4, 3, 2 (highest to lowest).\n",
        "\n",
        "Players want to swap for the smallest card to win.\n",
        "\n",
        "**Gameplay: **\n",
        "\n",
        "Players take turns picking one card each from the deck by its position (starting from 1).\n",
        "\n",
        "They can swap their initial card for the new one only if the new card has a lower value than their current card.\n",
        "\n",
        "If the picked card is equal or higher, they keep their original card.\n",
        "\n",
        "Victory:\n",
        "\n",
        "After both players finish, they reveal their final cards.\n",
        "\n",
        "The player with the lowest card wins.\n",
        "\n",
        "**Constraints:**\n",
        "\n",
        "Initial cards and deck cards come from the set {A, K, Q, J, 10, 9, 8, 7, 6, 5, 4, 3, 2}.\n",
        "\n",
        "Deck will have exactly 11 cards.\n",
        "\n",
        "Player 1 and Player 2 each choose distinct positions from the deck.\n",
        "\n",
        "No card can appear more than once.\n",
        "\n",
        "Positions are valid (1 ≤ pos ≤ 11).\n",
        "\n",
        "**Input Format:**\n",
        "\n",
        "First line → Player 1's initial card.\n",
        "\n",
        "Second line → Player 2's initial card.\n",
        "\n",
        "Third line → Shuffled deck cards (space separated).\n",
        "\n",
        "Fourth line → Position chosen by Player 1.\n",
        "\n",
        "Fifth line → Position chosen by Player 2.\n",
        "\n",
        "**Output Format:**\n",
        "\n",
        "Final card of Player 1.\n",
        "\n",
        "Final card of Player 2.\n",
        "\n",
        "Result → \"Player 1 wins\" or \"Player 2 wins\"."
      ],
      "metadata": {
        "id": "0VoXiu34l1PB"
      }
    },
    {
      "cell_type": "code",
      "execution_count": 6,
      "metadata": {
        "colab": {
          "base_uri": "https://localhost:8080/"
        },
        "id": "XJez0c3P7I_Q",
        "outputId": "0be19ba0-92f9-4c31-838b-1d551bdcfe02"
      },
      "outputs": [
        {
          "output_type": "stream",
          "name": "stdout",
          "text": [
            "Q\n",
            "6\n",
            "J 8 9 K 7 3 A 4 2 5 10\n",
            "7\n",
            "8\n",
            "Q\n",
            "4\n",
            "Player 2 wins\n"
          ]
        }
      ],
      "source": [
        "def getresult(p1,p2,deck,p1_position,p2_position):\n",
        "  card_rank={'A':14,'K':13,'Q':12,'J':11,'10':10,'9':9,'8':8,'7':7,'6':6,'5':5,'4':4,'3':3,'2':2}\n",
        "  p1_new=deck[p1_position-1]\n",
        "  final_p1= p1_new if card_rank[p1_new]<card_rank[p1] else p1\n",
        "  p2_new=deck[p2_position-1]\n",
        "  final_p2=p2_new if card_rank[p2_new]<card_rank[p2] else p2\n",
        "  print(final_p1)\n",
        "  print(final_p2)\n",
        "  if card_rank[final_p1]<card_rank[final_p2]:\n",
        "    print(\"Player 1 Wins\")\n",
        "  elif card_rank[final_p1]>card_rank[final_p2]:\n",
        "    print(\"Player 2 wins\")\n",
        "  else:\n",
        "    print(\"Draw3\")\n",
        "\n",
        "\n",
        "def main():\n",
        "  p1=input().strip()\n",
        "  p2=input().strip()\n",
        "  deck=input().split()\n",
        "  p1_position=int(input())\n",
        "  p2_position=int(input())\n",
        "  getresult(p1,p2,deck,p1_position,p2_position)\n",
        "\n",
        "main()"
      ]
    },
    {
      "cell_type": "markdown",
      "source": [
        "**📌 Problem Restatement**\n",
        "\n",
        "There are N robots labeled 1 to N in order:\n",
        "[1, 2, 3, ..., N]\n",
        "\n",
        "A hacker issues M reordering commands:\n",
        "\n",
        "A X Y → move robot X in front of robot Y\n",
        "\n",
        "B X Y → move robot X behind robot Y\n",
        "\n",
        "Robots follow commands exactly.\n",
        "\n",
        "You are given the final arrangement (after applying all commands).\n",
        "Your task: compute the minimum number of moves required to restore robots to their original order [1,2,...,N].\n",
        "\n",
        "💡 **Key Idea **\n",
        "\n",
        "This is actually a Longest Increasing Subsequence (LIS) problem.\n",
        "\n",
        "In the final arrangement, robots are permuted.\n",
        "\n",
        "To restore [1,2,3,...,N], we want the largest ordered subsequence already in place.\n",
        "\n",
        "Robots in this subsequence don’t need to move.\n",
        "\n",
        "The rest must be moved.\n",
        "\n",
        "👉 Answer = N - length_of_LIS(final_arrangement)\n",
        "\n",
        "🛠 Step 1: Apply Hacker Commands\n",
        "\n",
        "Start with [1,2,3,...,N] and apply each command:\n",
        "\n",
        "A X Y: remove X, insert before Y\n",
        "\n",
        "B X Y: remove X, insert after Y\n",
        "\n",
        "After M operations → we get final arrangement.\n",
        "\n",
        "🛠 Step 2: LIS Computation\n",
        "\n",
        "Given the final arrangement:\n",
        "\n",
        "Find the longest increasing subsequence (robots in correct relative order).\n",
        "\n",
        "Robots outside this LIS must move.\n",
        "\n",
        "📊** Example**\n",
        "\n",
        "Input:\n",
        "\n",
        "N = 4, M = 2\n",
        "Commands:\n",
        "B 1 3\n",
        "A 4 2\n",
        "\n",
        "\n",
        "**Process:**\n",
        "\n",
        "Start: [1,2,3,4]\n",
        "\n",
        "B 1 3: move 1 behind 3 → [2,3,1,4]\n",
        "\n",
        "A 4 2: move 4 before 2 → [4,2,3,1]\n",
        "\n",
        "Final arrangement: [4,2,3,1]\n",
        "\n",
        "LIS: [2,3] (length = 2)\n",
        "\n",
        "✅ Answer = N - LIS = 4 - 2 = 2"
      ],
      "metadata": {
        "id": "y5W9Sgt8nZRp"
      }
    },
    {
      "cell_type": "code",
      "source": [
        "import sys\n",
        "import bisect\n",
        "\n",
        "def generateResult(N, M, commands):\n",
        "    # Initial arrangement\n",
        "    robots = [i for i in range(1, N+1)]\n",
        "\n",
        "    # Apply all commands\n",
        "    for cmd in commands:\n",
        "        parts = cmd.split()\n",
        "        ctype, X, Y = parts[0], int(parts[1]), int(parts[2])\n",
        "        robots.remove(X)  # remove robot X\n",
        "        idx = robots.index(Y)\n",
        "        if ctype == 'A':  # put X in front of Y\n",
        "            robots.insert(idx, X)\n",
        "        else:  # ctype == 'B' → put X after Y\n",
        "            robots.insert(idx+1, X)\n",
        "\n",
        "    # Now find LIS in final arrangement\n",
        "    lis = []\n",
        "    for r in robots:\n",
        "        pos = bisect.bisect_left(lis, r)\n",
        "        if pos == len(lis):\n",
        "            lis.append(r)\n",
        "        else:\n",
        "            lis[pos] = r\n",
        "\n",
        "    return N - len(lis)\n",
        "\n",
        "\n",
        "# Example usage with direct inputs\n",
        "N = 3\n",
        "M = 1\n",
        "commands = [\"A 3 1\"]\n",
        "print(generateResult(N, M, commands))\n",
        "\n",
        "N = 4\n",
        "M = 2\n",
        "commands = [\"B 1 3\",\"A 4 2\"]\n",
        "print(generateResult(N, M, commands))"
      ],
      "metadata": {
        "colab": {
          "base_uri": "https://localhost:8080/"
        },
        "id": "uXMnGihnN8J2",
        "outputId": "300455e5-12fd-481c-8628-582ce4e65e7d"
      },
      "execution_count": 11,
      "outputs": [
        {
          "output_type": "stream",
          "name": "stdout",
          "text": [
            "1\n",
            "2\n"
          ]
        }
      ]
    },
    {
      "cell_type": "code",
      "source": [
        "import bisect\n",
        "def generateResult(N,M,commands):\n",
        "  robots=[i for i in range(1,N+1)]\n",
        "  for cmd in commands:\n",
        "    p=cmd.split()\n",
        "    ct,X,Y=p[0],int(p[1]),int(p[2])\n",
        "    robots.remove(X)\n",
        "    pos=robots.index(Y)\n",
        "    if ct=='A':\n",
        "      robots.insert(pos,X)\n",
        "    else:\n",
        "      robots.insert(pos+1,X)\n",
        "  lis=[]\n",
        "  for i in robots:\n",
        "    pos=bisect.bisect_left(lis,i)\n",
        "    if pos==len(lis):\n",
        "      lis.append(i)\n",
        "    else:\n",
        "      lis[pos]=i\n",
        "  return N-len(lis)\n",
        "N = 3\n",
        "M = 1\n",
        "commands = [\"A 3 1\"]\n",
        "print(generateResult(N, M, commands))\n",
        "\n",
        "N = 4\n",
        "M = 2\n",
        "commands = [\"B 1 3\",\"A 4 2\"]\n",
        "print(generateResult(N, M, commands))"
      ],
      "metadata": {
        "colab": {
          "base_uri": "https://localhost:8080/"
        },
        "id": "W9jTff7Rny4N",
        "outputId": "810a7193-e4fe-4a61-ddcd-3896d7c2aea6"
      },
      "execution_count": 13,
      "outputs": [
        {
          "output_type": "stream",
          "name": "stdout",
          "text": [
            "1\n",
            "2\n"
          ]
        }
      ]
    }
  ]
}